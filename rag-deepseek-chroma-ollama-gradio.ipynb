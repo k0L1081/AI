{
 "cells": [
  {
   "cell_type": "markdown",
   "id": "581b800a-1a6a-4d3d-b40c-95ab5824230d",
   "metadata": {},
   "source": [
    "## [Jump to Gradio UI ↓](#Gradio-UI)"
   ]
  },
  {
   "cell_type": "code",
   "execution_count": 1,
   "id": "4747418b-d746-47de-a0da-223e3e3e5ebb",
   "metadata": {},
   "outputs": [],
   "source": [
    "import gradio as gr\n",
    "from IPython.display import display, HTML\n",
    "from langchain_community.document_loaders import PyMuPDFLoader\n",
    "from langchain.text_splitter import RecursiveCharacterTextSplitter\n",
    "from langchain_community.vectorstores import Chroma\n",
    "from langchain_community.embeddings import HuggingFaceEmbeddings, OllamaEmbeddings\n",
    "\n",
    "import ollama\n",
    "import os\n",
    "import logging\n",
    "import re\n",
    "import shutil\n",
    "import sys\n",
    "\n",
    "logging.info('Imports complete.')"
   ]
  },
  {
   "cell_type": "code",
   "execution_count": 2,
   "id": "e114c940-b74b-420f-abe9-57e4132fb245",
   "metadata": {},
   "outputs": [
    {
     "name": "stdout",
     "output_type": "stream",
     "text": [
      "2025-03-16 14:31:49,865 - deepseek_pdf_rag - INFO - Embedding Model Name: BAAI/bge-small-en-v1.5\n",
      "2025-03-16 14:31:49,865 - deepseek_pdf_rag - INFO - Setup complete.\n"
     ]
    }
   ],
   "source": [
    "# Reset root logger: Important if running notebook cells multiple times.\n",
    "for handler in logging.root.handlers[:]:\n",
    "    logging.root.removeHandler(handler)\n",
    "\n",
    "# Set up Logger.\n",
    "logging.basicConfig(\n",
    "    # level = logging.DEBUG,\n",
    "    level = logging.INFO,\n",
    "    format = '%(asctime)s - %(name)s - %(levelname)s - %(message)s',\n",
    "    handlers = [\n",
    "        logging.FileHandler('./app.log', mode = 'w'), # Log to file + Overwrite log file each session.\n",
    "        logging.StreamHandler(sys.stdout) # Log to console/notebook\n",
    "    ]\n",
    ")\n",
    "\n",
    "logger = logging.getLogger('deepseek_pdf_rag')\n",
    "\n",
    "# Set up key variables.\n",
    "embedding_model_name = 'BAAI/bge-small-en-v1.5'\n",
    "logger.info(f'Embedding Model Name: {embedding_model_name}')\n",
    "\n",
    "logger.info('Setup complete.')"
   ]
  },
  {
   "cell_type": "code",
   "execution_count": 3,
   "id": "3acb681d-a02e-4d40-902c-e0b17dae0329",
   "metadata": {},
   "outputs": [],
   "source": [
    "def process_pdf(pdf_file_path, generation_model_name, embedding_model_name, chroma_persist_directory_path):\n",
    "\n",
    "    if pdf_file_path is None:\n",
    "        \n",
    "        logger.warning('No PDF file provided: Upload PDF file.')\n",
    "        return None, None, None\n",
    "\n",
    "    try:\n",
    "\n",
    "        # Clear vector store, if it exists.\n",
    "        if os.path.exists(chroma_persist_directory_path):\n",
    "            logger.info(f'Clearing existing vector store at {chroma_persist_directory_path}')\n",
    "            shutil.rmtree(chroma_persist_directory_path)\n",
    "            logger.info(f'Successfully cleared existing vector store.')\n",
    "\n",
    "        logger.info(f'Attempting to load PDF from: {pdf_file_path}')\n",
    "        loader = PyMuPDFLoader(pdf_file_path)\n",
    "        data = loader.load()\n",
    "        logger.info(f'Successfully loaded PDF with {len(data)} pages.')\n",
    "    \n",
    "    \t# For RecursiveCharacterTextSplitter(), chunks are characters; not tokens.\n",
    "        # For TokenTextSplitter(), chunks are tokens.\n",
    "        text_splitter = RecursiveCharacterTextSplitter(chunk_size=500, chunk_overlap=100)\n",
    "        chunks = text_splitter.split_documents(data)\n",
    "        logger.info(f'Split PDF into {len(chunks)} chunks.')\n",
    "\n",
    "        try:\n",
    "\n",
    "            logger.info(f'Initializing embeddings with model: {embedding_model_name}')\n",
    "            # embeddings = OllamaEmbeddings(model = generation_model_name)\n",
    "            embeddings = HuggingFaceEmbeddings(model_name = embedding_model_name)\n",
    "            logger.info('Embeddings initialized successfully.')\n",
    "\n",
    "            logger.info(f'Creating vector store in {chroma_persist_directory_path}')\n",
    "            vectorstore = Chroma.from_documents(\n",
    "                documents = chunks,\n",
    "                embedding = embeddings,\n",
    "                persist_directory = chroma_persist_directory_path)\n",
    "            logger.info(f'Vector store created successfully with {embedding_model_name}.')\n",
    "\n",
    "            # Chroma(): LangChain class imported from `langchain_community.vectorstores`.\n",
    "            # as_retriever(): LangChain method that returns vector store retriever initialized for specific vector store.\n",
    "            retriever = vectorstore.as_retriever()\n",
    "            logger.info(f'Retriever created successfully with {embedding_model_name}.')\n",
    "        \n",
    "            return text_splitter, vectorstore, retriever\n",
    "\n",
    "        except Exception as e:\n",
    "\n",
    "            logger.error(f'Error with embeddings, vector store or retriever: {e}', exc_info=True) # exc_info=True includes traceback)\n",
    "            # Fall back to Ollama embeddings\n",
    "            logger.info(f\"Falling back to OllamaEmbeddings with {generation_model_name}.\")\n",
    "\n",
    "            # Clear vector store, if it exists.\n",
    "            if os.path.exists(chroma_persist_directory_path):\n",
    "                logger.info(f'Clearing existing vector store at {chroma_persist_directory_path}')\n",
    "                shutil.rmtree(chroma_persist_directory_path)\n",
    "    \n",
    "            embeddings = OllamaEmbeddings(model = generation_model_name)\n",
    "            \n",
    "            vectorstore = Chroma.from_documents(\n",
    "                documents=chunks, embedding=embeddings, persist_directory=chroma_persist_directory_path\n",
    "            )\n",
    "            logger.info(f'Vector store created successfully with {generation_model_name}.')\n",
    "    \n",
    "            retriever = vectorstore.as_retriever()\n",
    "            logger.info(f'Retriever created successfully with {generation_model_name}.')\n",
    "    \n",
    "            return text_splitter, vectorstore, retriever\n",
    "\n",
    "    except Exception as e:\n",
    "\n",
    "        logger.error(f\"Error processing PDF: {e}\", exc_info=True)  # exc_info=True includes traceback)\n",
    "        return None, None, None"
   ]
  },
  {
   "cell_type": "code",
   "execution_count": 4,
   "id": "7342e00d-ff18-4e6c-8316-7f80742710ee",
   "metadata": {},
   "outputs": [],
   "source": [
    "def combine_docs(docs):\n",
    "    return \"\\n\\n\".join(doc.page_content for doc in docs)"
   ]
  },
  {
   "cell_type": "code",
   "execution_count": 5,
   "id": "c69ba0f4-6d94-40ec-bbdb-fdfc7aa37b03",
   "metadata": {},
   "outputs": [],
   "source": [
    "def ollama_llm(question, context, generation_model_name, include_thinking = True):\n",
    "    formatted_prompt = f\"Question: {question}\\n\\nContext: {context}\"\n",
    "\n",
    "    response = ollama.chat(\n",
    "        model=generation_model_name,\n",
    "        messages=[{\"role\": \"user\", \"content\": formatted_prompt}],\n",
    "    )\n",
    "\n",
    "    response_content = response[\"message\"][\"content\"]\n",
    "\n",
    "    if include_thinking:\n",
    "        \n",
    "        final_answer = response_content\n",
    "\n",
    "    else:\n",
    "\n",
    "        # Remove content between <think> and </think> tags.\n",
    "        # .: Matches any character except newline.\n",
    "        # *: Matches 0 or more of previous character.\n",
    "        # ?: Non-Greedy / Lazy. Matches minimum number of characters needed to find the next </think>.\n",
    "        # flags=re.DOTALL: Makes dot (.) character match any character, including newline.\n",
    "        final_answer = re.sub(r\"<think>.*?</think>\", \"\", response_content, flags=re.DOTALL).strip()\n",
    "\n",
    "    return final_answer"
   ]
  },
  {
   "cell_type": "code",
   "execution_count": 6,
   "id": "6a2a971a-c327-4e82-89cd-c4ab9f08408b",
   "metadata": {},
   "outputs": [],
   "source": [
    "def rag_chain(question, text_splitter, vectorstore, retriever, generation_model_name):\n",
    "    \n",
    "    retrieved_docs = retriever.invoke(question)\n",
    "    \n",
    "    formatted_content = combine_docs(retrieved_docs)\n",
    "    \n",
    "    return ollama_llm(question, formatted_content, generation_model_name, include_thinking = False)"
   ]
  },
  {
   "cell_type": "code",
   "execution_count": 7,
   "id": "1f4cb4cf-19ac-440b-b77a-ac4ef2c44d2e",
   "metadata": {},
   "outputs": [],
   "source": [
    "def ask_question(pdf_file_path, question, generation_model_name, embedding_model_name, chroma_persist_directory_path):\n",
    "\n",
    "    if pdf_file_path is None or pdf_file_path == \"\":\n",
    "        logger.info('No PDF uploaded. Please upload a PDF file.')\n",
    "        return None\n",
    "\n",
    "    text_splitter, vectorstore, retriever = process_pdf(pdf_file_path, generation_model_name, embedding_model_name, chroma_persist_directory_path)\n",
    "\n",
    "    if text_splitter is None:\n",
    "        logger.error('Error processing PDF. Check console for details.')\n",
    "        return None\n",
    "\n",
    "    result = rag_chain(question, text_splitter, vectorstore, retriever, generation_model_name)\n",
    "    return result"
   ]
  },
  {
   "cell_type": "code",
   "execution_count": 8,
   "id": "3003565e-fe4d-49ef-b1ac-a6fff5ddbd2c",
   "metadata": {},
   "outputs": [],
   "source": [
    "# # generation_model_name = 'deepseek-r1'\n",
    "# # generation_model_name = 'deepseek-r1:8b'\n",
    "# generation_model_name = 'deepseek-r1:1.5b'\n",
    "\n",
    "# response = ollama.chat(\n",
    "\t\n",
    "# \tmodel = generation_model_name,\n",
    "    \n",
    "# \tmessages=[\n",
    "# \t\t\t\t{\"role\": \"user\", \"content\": \"List the 9 planets.\"},\n",
    "#     \t\t\t],\n",
    "\n",
    "# )"
   ]
  },
  {
   "cell_type": "code",
   "execution_count": 9,
   "id": "cd6e10d9-a9c3-40fb-8287-35c8245ac07c",
   "metadata": {},
   "outputs": [],
   "source": [
    "# generation_model_name = 'deepseek-r1'\n",
    "# generation_model_name = 'deepseek-r1:8b'\n",
    "generation_model_name_default = 'deepseek-r1:1.5b'\n",
    "chroma_persist_directory_default = f\"./chroma_db_{embedding_model_name.replace('/', '_')}\"\n",
    "\n",
    "# # Test the processing directly.\n",
    "# test_pdf_path = \"./Hadoop Migration Custoner Pitch Enablement - For Partner AEs and SAs.pdf\"\n",
    "# try:\n",
    "#     text_splitter, vectorstore, retriever = process_pdf(test_pdf_path, model_name_default, embedding_model_name, chroma_persist_directory_default)\n",
    "#     print(\"Success!\")\n",
    "# except Exception as e:\n",
    "#     print(f\"Error: {e}\")\n",
    "#     traceback.print_exc()\n",
    "\n",
    "interface = gr.Interface(\n",
    "    \n",
    "    fn=ask_question,\n",
    "\n",
    "    inputs=[\n",
    "        \n",
    "        gr.File(label=\"Upload PDF (Optional)\", type=\"filepath\"),\n",
    "\n",
    "        gr.Textbox(label=\"Ask a question\"),\n",
    "\n",
    "        gr.Dropdown(choices=[\"deepseek-r1\", \"deepseek-r1:8b\", \"deepseek-r1:1.5b\"],\n",
    "                    value=generation_model_name_default,\n",
    "                    label=\"Generation Model\"),\n",
    "\n",
    "        gr.Textbox(value=embedding_model_name,\n",
    "                   label=\"Embedding Model\"),\n",
    "        \n",
    "        gr.Textbox(value=chroma_persist_directory_default,\n",
    "                   label=\"Chroma DB Directory\")\n",
    "    ],\n",
    "\n",
    "    outputs=\"text\",\n",
    "\n",
    "    title=\"Ask questions about your PDF\",\n",
    "\n",
    "    description=\"Use DeepSeek-R1 for answers and BGE for semantic search on your PDF document.\",\n",
    ")\n"
   ]
  },
  {
   "cell_type": "markdown",
   "id": "916523bb-8ad9-40ec-a3ac-0deedf98d108",
   "metadata": {},
   "source": [
    "## Gradio UI"
   ]
  },
  {
   "cell_type": "code",
   "execution_count": 10,
   "id": "9add6e6b-c0f4-4673-9beb-cc1a2a6392df",
   "metadata": {},
   "outputs": [
    {
     "name": "stdout",
     "output_type": "stream",
     "text": [
      "2025-03-16 14:31:50,175 - httpx - INFO - HTTP Request: GET https://checkip.amazonaws.com/ \"HTTP/1.1 200 \"\n",
      "Running on local URL:  http://127.0.0.1:7860\n",
      "2025-03-16 14:31:50,259 - httpx - INFO - HTTP Request: GET https://api.gradio.app/pkg-version \"HTTP/1.1 200 OK\"\n",
      "2025-03-16 14:31:50,273 - httpx - INFO - HTTP Request: GET http://127.0.0.1:7860/startup-events \"HTTP/1.1 200 OK\"\n",
      "2025-03-16 14:31:50,495 - botocore.credentials - INFO - Found credentials in shared credentials file: ~/.aws/credentials\n",
      "2025-03-16 14:31:50,861 - httpx - INFO - HTTP Request: HEAD http://127.0.0.1:7860/ \"HTTP/1.1 200 OK\"\n",
      "\n",
      "To create a public link, set `share=True` in `launch()`.\n"
     ]
    },
    {
     "data": {
      "text/html": [
       "<div><iframe src=\"http://127.0.0.1:7860/\" width=\"100%\" height=\"500\" allow=\"autoplay; camera; microphone; clipboard-read; clipboard-write;\" frameborder=\"0\" allowfullscreen></iframe></div>"
      ],
      "text/plain": [
       "<IPython.core.display.HTML object>"
      ]
     },
     "metadata": {},
     "output_type": "display_data"
    },
    {
     "data": {
      "text/plain": []
     },
     "execution_count": 10,
     "metadata": {},
     "output_type": "execute_result"
    }
   ],
   "source": [
    "interface.launch()"
   ]
  }
 ],
 "metadata": {
  "kernelspec": {
   "display_name": "python39",
   "language": "python",
   "name": "python39"
  },
  "language_info": {
   "codemirror_mode": {
    "name": "ipython",
    "version": 3
   },
   "file_extension": ".py",
   "mimetype": "text/x-python",
   "name": "python",
   "nbconvert_exporter": "python",
   "pygments_lexer": "ipython3",
   "version": "3.9.18"
  }
 },
 "nbformat": 4,
 "nbformat_minor": 5
}
